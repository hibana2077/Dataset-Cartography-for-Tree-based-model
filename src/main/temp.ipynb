{
 "cells": [
  {
   "cell_type": "code",
   "execution_count": 1,
   "metadata": {},
   "outputs": [],
   "source": [
    "import pandas as pd\n",
    "from sklearn.model_selection import train_test_split\n",
    "from sklearn.preprocessing import LabelEncoder"
   ]
  },
  {
   "cell_type": "code",
   "execution_count": 2,
   "metadata": {},
   "outputs": [],
   "source": [
    "df = pd.read_csv('../datasets/Mobile_Price/mobile_price.csv')"
   ]
  },
  {
   "cell_type": "code",
   "execution_count": 3,
   "metadata": {},
   "outputs": [
    {
     "data": {
      "text/plain": [
       "Index(['id', 'sudden_fever', 'headache', 'mouth_bleed', 'nose_bleed',\n",
       "       'muscle_pain', 'joint_pain', 'vomiting', 'rash', 'diarrhea',\n",
       "       'hypotension', 'pleural_effusion', 'ascites', 'gastro_bleeding',\n",
       "       'swelling', 'nausea', 'chills', 'myalgia', 'digestion_trouble',\n",
       "       'fatigue', 'skin_lesions', 'stomach_pain', 'orbital_pain', 'neck_pain',\n",
       "       'weakness', 'back_pain', 'weight_loss', 'gum_bleed', 'jaundice', 'coma',\n",
       "       'diziness', 'inflammation', 'red_eyes', 'loss_of_appetite',\n",
       "       'urination_loss', 'slow_heart_rate', 'abdominal_pain',\n",
       "       'light_sensitivity', 'yellow_skin', 'yellow_eyes', 'facial_distortion',\n",
       "       'microcephaly', 'rigor', 'bitter_tongue', 'convulsion', 'anemia',\n",
       "       'cocacola_urine', 'hypoglycemia', 'prostraction', 'hyperpyrexia',\n",
       "       'stiff_neck', 'irritability', 'confusion', 'tremor', 'paralysis',\n",
       "       'lymph_swells', 'breathing_restriction', 'toe_inflammation',\n",
       "       'finger_inflammation', 'lips_irritation', 'itchiness', 'ulcers',\n",
       "       'toenail_loss', 'speech_problem', 'bullseye_rash', 'prognosis'],\n",
       "      dtype='object')"
      ]
     },
     "execution_count": 3,
     "metadata": {},
     "output_type": "execute_result"
    }
   ],
   "source": [
    "df.columns"
   ]
  },
  {
   "cell_type": "code",
   "execution_count": 4,
   "metadata": {},
   "outputs": [],
   "source": [
    "# drop columns\n",
    "df = df.drop(['id'], axis=1)"
   ]
  },
  {
   "cell_type": "code",
   "execution_count": 5,
   "metadata": {},
   "outputs": [],
   "source": [
    "# encode target\n",
    "le = LabelEncoder()\n",
    "df['prognosis'] = le.fit_transform(df['prognosis'])"
   ]
  },
  {
   "cell_type": "code",
   "execution_count": 6,
   "metadata": {},
   "outputs": [
    {
     "name": "stdout",
     "output_type": "stream",
     "text": [
      "['Chikungunya' 'Dengue' 'Japanese_encephalitis' 'Lyme_disease' 'Malaria'\n",
      " 'Plague' 'Rift_Valley_fever' 'Tungiasis' 'West_Nile_fever' 'Yellow_Fever'\n",
      " 'Zika']\n"
     ]
    }
   ],
   "source": [
    "print(le.classes_)"
   ]
  },
  {
   "cell_type": "code",
   "execution_count": 7,
   "metadata": {},
   "outputs": [],
   "source": [
    "# split the data into train and test\n",
    "train, test = train_test_split(df, test_size=0.2, random_state=42)"
   ]
  },
  {
   "cell_type": "code",
   "execution_count": 8,
   "metadata": {},
   "outputs": [],
   "source": [
    "# save the data\n",
    "train.to_csv('../datasets/Mobile_Price/train.csv', index=False)\n",
    "test.to_csv('../datasets/Mobile_Price/test.csv', index=False)"
   ]
  }
 ],
 "metadata": {
  "kernelspec": {
   "display_name": "Python 3",
   "language": "python",
   "name": "python3"
  },
  "language_info": {
   "codemirror_mode": {
    "name": "ipython",
    "version": 3
   },
   "file_extension": ".py",
   "mimetype": "text/x-python",
   "name": "python",
   "nbconvert_exporter": "python",
   "pygments_lexer": "ipython3",
   "version": "3.11.6"
  }
 },
 "nbformat": 4,
 "nbformat_minor": 2
}

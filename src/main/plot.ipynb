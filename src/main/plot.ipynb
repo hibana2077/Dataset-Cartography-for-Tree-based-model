{
 "cells": [
  {
   "cell_type": "code",
   "execution_count": 1,
   "metadata": {},
   "outputs": [],
   "source": [
    "import json\n",
    "from rich import print as rprint"
   ]
  },
  {
   "cell_type": "code",
   "execution_count": 2,
   "metadata": {},
   "outputs": [],
   "source": [
    "path = \"../output/Machine_Failures/Machine_Failures_exp_rec.json\""
   ]
  },
  {
   "cell_type": "code",
   "execution_count": 3,
   "metadata": {},
   "outputs": [],
   "source": [
    "# load the json file\n",
    "with open(path) as f:\n",
    "    data = json.load(f)"
   ]
  },
  {
   "cell_type": "code",
   "execution_count": 4,
   "metadata": {},
   "outputs": [
    {
     "data": {
      "text/plain": [
       "dict_keys(['train_shape', 'test_shape', 'target', 'LogisticRegression', 'LogisticRegression_stacking', 'RandomForest', 'RandomForest_stacking', 'DecisionTree', 'DecisionTree_stacking'])"
      ]
     },
     "execution_count": 4,
     "metadata": {},
     "output_type": "execute_result"
    }
   ],
   "source": [
    "data.keys()"
   ]
  },
  {
   "cell_type": "code",
   "execution_count": 5,
   "metadata": {},
   "outputs": [
    {
     "data": {
      "text/plain": [
       "dict_keys(['train_accuracy', 'test_accuracy', 'train_confusion_matrix', 'train_classification_report', 'test_confusion_matrix', 'test_classification_report'])"
      ]
     },
     "execution_count": 5,
     "metadata": {},
     "output_type": "execute_result"
    }
   ],
   "source": [
    "data['RandomForest'].keys()"
   ]
  },
  {
   "cell_type": "code",
   "execution_count": 6,
   "metadata": {},
   "outputs": [
    {
     "data": {
      "text/plain": [
       "{'n_estimators=100, max_depth=5': 0.5015054799470071,\n",
       " 'n_estimators=100, max_depth=10': 0.683487895941226,\n",
       " 'n_estimators=100, max_depth=15': 0.7700228832951945,\n",
       " 'n_estimators=200, max_depth=5': 0.5091533180778032,\n",
       " 'n_estimators=200, max_depth=10': 0.7001083945561846,\n",
       " 'n_estimators=200, max_depth=15': 0.7685776225460677,\n",
       " 'n_estimators=300, max_depth=5': 0.5257738166927617,\n",
       " 'n_estimators=300, max_depth=10': 0.6841503071179091,\n",
       " 'n_estimators=300, max_depth=15': 0.7682765265566662}"
      ]
     },
     "execution_count": 6,
     "metadata": {},
     "output_type": "execute_result"
    }
   ],
   "source": [
    "data['RandomForest']['train_accuracy']"
   ]
  },
  {
   "cell_type": "code",
   "execution_count": 7,
   "metadata": {},
   "outputs": [
    {
     "data": {
      "text/plain": [
       "{'n_estimators=100, max_depth=5': 0.5077071290944123,\n",
       " 'n_estimators=100, max_depth=10': 0.6632947976878613,\n",
       " 'n_estimators=100, max_depth=15': 0.7220616570327553,\n",
       " 'n_estimators=200, max_depth=5': 0.5098747591522158,\n",
       " 'n_estimators=200, max_depth=10': 0.6801541425818882,\n",
       " 'n_estimators=200, max_depth=15': 0.720616570327553,\n",
       " 'n_estimators=300, max_depth=5': 0.5313102119460501,\n",
       " 'n_estimators=300, max_depth=10': 0.6644990366088632,\n",
       " 'n_estimators=300, max_depth=15': 0.7117052023121387}"
      ]
     },
     "execution_count": 7,
     "metadata": {},
     "output_type": "execute_result"
    }
   ],
   "source": [
    "data['RandomForest']['test_accuracy']"
   ]
  },
  {
   "cell_type": "code",
   "execution_count": 8,
   "metadata": {},
   "outputs": [
    {
     "name": "stdout",
     "output_type": "stream",
     "text": [
      "Max test accuracy: 0.7220616570327553, Max train accuracy: 0.7700228832951945\n"
     ]
    }
   ],
   "source": [
    "max_test_accuracy = max(data['RandomForest']['test_accuracy'].values())\n",
    "max_train_accuracy = max(data['RandomForest']['train_accuracy'].values())\n",
    "print(f\"Max test accuracy: {max_test_accuracy}, Max train accuracy: {max_train_accuracy}\")"
   ]
  },
  {
   "cell_type": "code",
   "execution_count": 9,
   "metadata": {},
   "outputs": [
    {
     "name": "stdout",
     "output_type": "stream",
     "text": [
      "Stacking Max test accuracy: 0.7748073217726397, Max train accuracy: 0.922678549921715\n"
     ]
    }
   ],
   "source": [
    "\n",
    "stacking_max_test_accuracy = data['RandomForest_stacking']['test_accuracy']\n",
    "stacking_max_train_accuracy = data['RandomForest_stacking']['train_accuracy']\n",
    "print(f\"Stacking Max test accuracy: {stacking_max_test_accuracy}, Max train accuracy: {stacking_max_train_accuracy}\")"
   ]
  },
  {
   "cell_type": "code",
   "execution_count": 10,
   "metadata": {},
   "outputs": [
    {
     "data": {
      "text/html": [
       "<pre style=\"white-space:pre;overflow-x:auto;line-height:normal;font-family:Menlo,'DejaVu Sans Mono',consolas,'Courier New',monospace\">Test improvement: <span style=\"color: #008080; text-decoration-color: #008080; font-weight: bold\">7.30</span>%, Train improvement: <span style=\"color: #008080; text-decoration-color: #008080; font-weight: bold\">19.82</span>%\n",
       "</pre>\n"
      ],
      "text/plain": [
       "Test improvement: \u001b[1;36m7.30\u001b[0m%, Train improvement: \u001b[1;36m19.82\u001b[0m%\n"
      ]
     },
     "metadata": {},
     "output_type": "display_data"
    }
   ],
   "source": [
    "# 計算提升率\n",
    "test_improvement = (stacking_max_test_accuracy - max_test_accuracy) / max_test_accuracy\n",
    "train_improvement = (stacking_max_train_accuracy - max_train_accuracy) / max_train_accuracy\n",
    "rprint(f\"Test improvement: {test_improvement:.2%}, Train improvement: {train_improvement:.2%}\")"
   ]
  }
 ],
 "metadata": {
  "kernelspec": {
   "display_name": "Python 3",
   "language": "python",
   "name": "python3"
  },
  "language_info": {
   "codemirror_mode": {
    "name": "ipython",
    "version": 3
   },
   "file_extension": ".py",
   "mimetype": "text/x-python",
   "name": "python",
   "nbconvert_exporter": "python",
   "pygments_lexer": "ipython3",
   "version": "3.11.8"
  }
 },
 "nbformat": 4,
 "nbformat_minor": 2
}

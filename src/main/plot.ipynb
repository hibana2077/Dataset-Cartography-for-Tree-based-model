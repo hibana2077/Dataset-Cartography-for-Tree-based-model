{
 "cells": [
  {
   "cell_type": "code",
   "execution_count": 1,
   "metadata": {},
   "outputs": [],
   "source": [
    "import json\n",
    "from rich import print as rprint"
   ]
  },
  {
   "cell_type": "code",
   "execution_count": 2,
   "metadata": {},
   "outputs": [],
   "source": [
    "path = \"../output/Reservation_Cancellation/Reservation_Cancellation_exp_rec.json\""
   ]
  },
  {
   "cell_type": "code",
   "execution_count": 3,
   "metadata": {},
   "outputs": [],
   "source": [
    "# load the json file\n",
    "with open(path) as f:\n",
    "    data = json.load(f)"
   ]
  },
  {
   "cell_type": "code",
   "execution_count": 4,
   "metadata": {},
   "outputs": [
    {
     "data": {
      "text/plain": [
       "dict_keys(['train_shape', 'test_shape', 'target', 'LogisticRegression', 'LogisticRegression_stacking', 'RandomForest', 'RandomForest_stacking', 'DecisionTree', 'DecisionTree_stacking'])"
      ]
     },
     "execution_count": 4,
     "metadata": {},
     "output_type": "execute_result"
    }
   ],
   "source": [
    "data.keys()"
   ]
  },
  {
   "cell_type": "code",
   "execution_count": 5,
   "metadata": {},
   "outputs": [
    {
     "data": {
      "text/plain": [
       "dict_keys(['train_accuracy', 'test_accuracy', 'train_confusion_matrix', 'train_classification_report', 'test_confusion_matrix', 'test_classification_report'])"
      ]
     },
     "execution_count": 5,
     "metadata": {},
     "output_type": "execute_result"
    }
   ],
   "source": [
    "data['RandomForest'].keys()"
   ]
  },
  {
   "cell_type": "code",
   "execution_count": 6,
   "metadata": {},
   "outputs": [
    {
     "data": {
      "text/plain": [
       "{'n_estimators=100, max_depth=5': 0.7213709282190348,\n",
       " 'n_estimators=100, max_depth=10': 0.7668670565556899,\n",
       " 'n_estimators=100, max_depth=15': 0.818913973927533,\n",
       " 'n_estimators=200, max_depth=5': 0.7224001045512465,\n",
       " 'n_estimators=200, max_depth=10': 0.7768157611004018,\n",
       " 'n_estimators=200, max_depth=15': 0.8225732675531741,\n",
       " 'n_estimators=300, max_depth=5': 0.7202927434900513,\n",
       " 'n_estimators=300, max_depth=10': 0.7707387199006763,\n",
       " 'n_estimators=300, max_depth=15': 0.8224099062306008}"
      ]
     },
     "execution_count": 6,
     "metadata": {},
     "output_type": "execute_result"
    }
   ],
   "source": [
    "data['RandomForest']['train_accuracy']"
   ]
  },
  {
   "cell_type": "code",
   "execution_count": 7,
   "metadata": {},
   "outputs": [
    {
     "data": {
      "text/plain": [
       "{'n_estimators=100, max_depth=5': 0.7202038682697334,\n",
       " 'n_estimators=100, max_depth=10': 0.7610428646105594,\n",
       " 'n_estimators=100, max_depth=15': 0.797961317302666,\n",
       " 'n_estimators=200, max_depth=5': 0.7210533193936226,\n",
       " 'n_estimators=200, max_depth=10': 0.7707788813382123,\n",
       " 'n_estimators=200, max_depth=15': 0.8010977522216414,\n",
       " 'n_estimators=300, max_depth=5': 0.7198118139048615,\n",
       " 'n_estimators=300, max_depth=10': 0.7633298484056456,\n",
       " 'n_estimators=300, max_depth=15': 0.8008363826450601}"
      ]
     },
     "execution_count": 7,
     "metadata": {},
     "output_type": "execute_result"
    }
   ],
   "source": [
    "data['RandomForest']['test_accuracy']"
   ]
  },
  {
   "cell_type": "code",
   "execution_count": 8,
   "metadata": {},
   "outputs": [
    {
     "name": "stdout",
     "output_type": "stream",
     "text": [
      "Max test accuracy: 0.8010977522216414, Max train accuracy: 0.8225732675531741\n"
     ]
    }
   ],
   "source": [
    "max_test_accuracy = max(data['RandomForest']['test_accuracy'].values())\n",
    "max_train_accuracy = max(data['RandomForest']['train_accuracy'].values())\n",
    "print(f\"Max test accuracy: {max_test_accuracy}, Max train accuracy: {max_train_accuracy}\")"
   ]
  },
  {
   "cell_type": "code",
   "execution_count": 9,
   "metadata": {},
   "outputs": [
    {
     "name": "stdout",
     "output_type": "stream",
     "text": [
      "Stacking Max test accuracy: 0.8218766335598536, Max train accuracy: 0.9656124415983272\n"
     ]
    }
   ],
   "source": [
    "\n",
    "stacking_max_test_accuracy = data['RandomForest_stacking']['test_accuracy']\n",
    "stacking_max_train_accuracy = data['RandomForest_stacking']['train_accuracy']\n",
    "print(f\"Stacking Max test accuracy: {stacking_max_test_accuracy}, Max train accuracy: {stacking_max_train_accuracy}\")"
   ]
  },
  {
   "cell_type": "code",
   "execution_count": 10,
   "metadata": {},
   "outputs": [
    {
     "data": {
      "text/html": [
       "<pre style=\"white-space:pre;overflow-x:auto;line-height:normal;font-family:Menlo,'DejaVu Sans Mono',consolas,'Courier New',monospace\">Test improvement: <span style=\"color: #008080; text-decoration-color: #008080; font-weight: bold\">2.59</span>%, Train improvement: <span style=\"color: #008080; text-decoration-color: #008080; font-weight: bold\">17.39</span>%\n",
       "</pre>\n"
      ],
      "text/plain": [
       "Test improvement: \u001b[1;36m2.59\u001b[0m%, Train improvement: \u001b[1;36m17.39\u001b[0m%\n"
      ]
     },
     "metadata": {},
     "output_type": "display_data"
    }
   ],
   "source": [
    "# 計算提升率\n",
    "test_improvement = (stacking_max_test_accuracy - max_test_accuracy) / max_test_accuracy\n",
    "train_improvement = (stacking_max_train_accuracy - max_train_accuracy) / max_train_accuracy\n",
    "rprint(f\"Test improvement: {test_improvement:.2%}, Train improvement: {train_improvement:.2%}\")"
   ]
  }
 ],
 "metadata": {
  "kernelspec": {
   "display_name": "Python 3",
   "language": "python",
   "name": "python3"
  },
  "language_info": {
   "codemirror_mode": {
    "name": "ipython",
    "version": 3
   },
   "file_extension": ".py",
   "mimetype": "text/x-python",
   "name": "python",
   "nbconvert_exporter": "python",
   "pygments_lexer": "ipython3",
   "version": "3.11.8"
  }
 },
 "nbformat": 4,
 "nbformat_minor": 2
}

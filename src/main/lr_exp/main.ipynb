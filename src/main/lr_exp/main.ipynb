{
 "cells": [
  {
   "cell_type": "code",
   "execution_count": 1,
   "metadata": {},
   "outputs": [],
   "source": [
    "import pandas as pd\n",
    "import numpy as np\n",
    "import matplotlib.pyplot as plt\n",
    "from sklearn.preprocessing import StandardScaler\n",
    "from sklearn.linear_model import LogisticRegression\n",
    "from sklearn.model_selection import train_test_split\n",
    "from sklearn.preprocessing import LabelEncoder\n",
    "from sklearn.metrics import accuracy_score\n",
    "from sklearn.metrics import confusion_matrix\n",
    "from sklearn.metrics import classification_report\n",
    "from rich import print as rprint\n",
    "import warnings"
   ]
  },
  {
   "cell_type": "code",
   "execution_count": 2,
   "metadata": {},
   "outputs": [],
   "source": [
    "warnings.filterwarnings(\"ignore\")"
   ]
  },
  {
   "cell_type": "code",
   "execution_count": 3,
   "metadata": {},
   "outputs": [],
   "source": [
    "df = pd.read_csv('../../datasets/train_features.csv')"
   ]
  },
  {
   "cell_type": "code",
   "execution_count": 4,
   "metadata": {},
   "outputs": [
    {
     "data": {
      "text/plain": [
       "Index(['0', '1', '2', '3', '4', '5', '6', '7', '8', '9',\n",
       "       ...\n",
       "       '1015', '1016', '1017', '1018', '1019', '1020', '1021', '1022', '1023',\n",
       "       '1024'],\n",
       "      dtype='object', length=1025)"
      ]
     },
     "execution_count": 4,
     "metadata": {},
     "output_type": "execute_result"
    }
   ],
   "source": [
    "df.columns"
   ]
  },
  {
   "cell_type": "code",
   "execution_count": 5,
   "metadata": {},
   "outputs": [
    {
     "data": {
      "text/html": [
       "<div>\n",
       "<style scoped>\n",
       "    .dataframe tbody tr th:only-of-type {\n",
       "        vertical-align: middle;\n",
       "    }\n",
       "\n",
       "    .dataframe tbody tr th {\n",
       "        vertical-align: top;\n",
       "    }\n",
       "\n",
       "    .dataframe thead th {\n",
       "        text-align: right;\n",
       "    }\n",
       "</style>\n",
       "<table border=\"1\" class=\"dataframe\">\n",
       "  <thead>\n",
       "    <tr style=\"text-align: right;\">\n",
       "      <th></th>\n",
       "      <th>0</th>\n",
       "      <th>1</th>\n",
       "      <th>2</th>\n",
       "      <th>3</th>\n",
       "      <th>4</th>\n",
       "      <th>5</th>\n",
       "      <th>6</th>\n",
       "      <th>7</th>\n",
       "      <th>8</th>\n",
       "      <th>9</th>\n",
       "      <th>...</th>\n",
       "      <th>1015</th>\n",
       "      <th>1016</th>\n",
       "      <th>1017</th>\n",
       "      <th>1018</th>\n",
       "      <th>1019</th>\n",
       "      <th>1020</th>\n",
       "      <th>1021</th>\n",
       "      <th>1022</th>\n",
       "      <th>1023</th>\n",
       "      <th>1024</th>\n",
       "    </tr>\n",
       "  </thead>\n",
       "  <tbody>\n",
       "    <tr>\n",
       "      <th>0</th>\n",
       "      <td>-3.210069</td>\n",
       "      <td>-4.458862</td>\n",
       "      <td>-0.878512</td>\n",
       "      <td>-9.101152</td>\n",
       "      <td>-11.970865</td>\n",
       "      <td>1.784717</td>\n",
       "      <td>2.959738</td>\n",
       "      <td>4.797460</td>\n",
       "      <td>-13.834463</td>\n",
       "      <td>-0.261578</td>\n",
       "      <td>...</td>\n",
       "      <td>3.472469</td>\n",
       "      <td>-5.928474</td>\n",
       "      <td>-1.585344</td>\n",
       "      <td>7.044512</td>\n",
       "      <td>3.351335</td>\n",
       "      <td>2.595461</td>\n",
       "      <td>4.681990</td>\n",
       "      <td>0.276043</td>\n",
       "      <td>-3.234175</td>\n",
       "      <td>2.0</td>\n",
       "    </tr>\n",
       "    <tr>\n",
       "      <th>1</th>\n",
       "      <td>-4.577524</td>\n",
       "      <td>-5.676576</td>\n",
       "      <td>-2.340113</td>\n",
       "      <td>-10.764790</td>\n",
       "      <td>-13.815485</td>\n",
       "      <td>2.603069</td>\n",
       "      <td>3.958373</td>\n",
       "      <td>6.244400</td>\n",
       "      <td>-14.038521</td>\n",
       "      <td>-0.366628</td>\n",
       "      <td>...</td>\n",
       "      <td>4.676921</td>\n",
       "      <td>-8.461687</td>\n",
       "      <td>-1.881620</td>\n",
       "      <td>9.183582</td>\n",
       "      <td>3.957644</td>\n",
       "      <td>4.263472</td>\n",
       "      <td>5.924525</td>\n",
       "      <td>0.291932</td>\n",
       "      <td>-4.050914</td>\n",
       "      <td>2.0</td>\n",
       "    </tr>\n",
       "    <tr>\n",
       "      <th>2</th>\n",
       "      <td>0.660451</td>\n",
       "      <td>0.264598</td>\n",
       "      <td>1.986459</td>\n",
       "      <td>2.682943</td>\n",
       "      <td>3.441537</td>\n",
       "      <td>-0.483278</td>\n",
       "      <td>-0.000470</td>\n",
       "      <td>-2.272786</td>\n",
       "      <td>5.390817</td>\n",
       "      <td>0.233887</td>\n",
       "      <td>...</td>\n",
       "      <td>0.410656</td>\n",
       "      <td>1.886437</td>\n",
       "      <td>0.972049</td>\n",
       "      <td>-2.938727</td>\n",
       "      <td>-0.221072</td>\n",
       "      <td>-1.883689</td>\n",
       "      <td>0.118852</td>\n",
       "      <td>0.635082</td>\n",
       "      <td>1.586291</td>\n",
       "      <td>1.0</td>\n",
       "    </tr>\n",
       "    <tr>\n",
       "      <th>3</th>\n",
       "      <td>-0.585011</td>\n",
       "      <td>-1.931929</td>\n",
       "      <td>2.918542</td>\n",
       "      <td>-5.462645</td>\n",
       "      <td>-7.645029</td>\n",
       "      <td>-0.021875</td>\n",
       "      <td>1.382597</td>\n",
       "      <td>1.764294</td>\n",
       "      <td>-13.119708</td>\n",
       "      <td>0.048759</td>\n",
       "      <td>...</td>\n",
       "      <td>0.767551</td>\n",
       "      <td>-0.621759</td>\n",
       "      <td>-0.289813</td>\n",
       "      <td>2.448361</td>\n",
       "      <td>2.664419</td>\n",
       "      <td>-0.916472</td>\n",
       "      <td>1.891101</td>\n",
       "      <td>0.544798</td>\n",
       "      <td>-1.289092</td>\n",
       "      <td>0.0</td>\n",
       "    </tr>\n",
       "    <tr>\n",
       "      <th>4</th>\n",
       "      <td>-3.759083</td>\n",
       "      <td>-4.918644</td>\n",
       "      <td>-1.571457</td>\n",
       "      <td>-9.856080</td>\n",
       "      <td>-12.780863</td>\n",
       "      <td>2.122068</td>\n",
       "      <td>3.415359</td>\n",
       "      <td>5.466081</td>\n",
       "      <td>-13.835334</td>\n",
       "      <td>-0.401230</td>\n",
       "      <td>...</td>\n",
       "      <td>4.043961</td>\n",
       "      <td>-6.606894</td>\n",
       "      <td>-1.719708</td>\n",
       "      <td>7.779760</td>\n",
       "      <td>3.606975</td>\n",
       "      <td>3.311950</td>\n",
       "      <td>5.148464</td>\n",
       "      <td>0.244136</td>\n",
       "      <td>-3.634058</td>\n",
       "      <td>2.0</td>\n",
       "    </tr>\n",
       "  </tbody>\n",
       "</table>\n",
       "<p>5 rows × 1025 columns</p>\n",
       "</div>"
      ],
      "text/plain": [
       "          0         1         2          3          4         5         6  \\\n",
       "0 -3.210069 -4.458862 -0.878512  -9.101152 -11.970865  1.784717  2.959738   \n",
       "1 -4.577524 -5.676576 -2.340113 -10.764790 -13.815485  2.603069  3.958373   \n",
       "2  0.660451  0.264598  1.986459   2.682943   3.441537 -0.483278 -0.000470   \n",
       "3 -0.585011 -1.931929  2.918542  -5.462645  -7.645029 -0.021875  1.382597   \n",
       "4 -3.759083 -4.918644 -1.571457  -9.856080 -12.780863  2.122068  3.415359   \n",
       "\n",
       "          7          8         9  ...      1015      1016      1017      1018  \\\n",
       "0  4.797460 -13.834463 -0.261578  ...  3.472469 -5.928474 -1.585344  7.044512   \n",
       "1  6.244400 -14.038521 -0.366628  ...  4.676921 -8.461687 -1.881620  9.183582   \n",
       "2 -2.272786   5.390817  0.233887  ...  0.410656  1.886437  0.972049 -2.938727   \n",
       "3  1.764294 -13.119708  0.048759  ...  0.767551 -0.621759 -0.289813  2.448361   \n",
       "4  5.466081 -13.835334 -0.401230  ...  4.043961 -6.606894 -1.719708  7.779760   \n",
       "\n",
       "       1019      1020      1021      1022      1023  1024  \n",
       "0  3.351335  2.595461  4.681990  0.276043 -3.234175   2.0  \n",
       "1  3.957644  4.263472  5.924525  0.291932 -4.050914   2.0  \n",
       "2 -0.221072 -1.883689  0.118852  0.635082  1.586291   1.0  \n",
       "3  2.664419 -0.916472  1.891101  0.544798 -1.289092   0.0  \n",
       "4  3.606975  3.311950  5.148464  0.244136 -3.634058   2.0  \n",
       "\n",
       "[5 rows x 1025 columns]"
      ]
     },
     "execution_count": 5,
     "metadata": {},
     "output_type": "execute_result"
    }
   ],
   "source": [
    "df.head()"
   ]
  },
  {
   "cell_type": "code",
   "execution_count": 6,
   "metadata": {},
   "outputs": [
    {
     "data": {
      "text/plain": [
       "(12000, 1025)"
      ]
     },
     "execution_count": 6,
     "metadata": {},
     "output_type": "execute_result"
    }
   ],
   "source": [
    "df.shape"
   ]
  },
  {
   "cell_type": "code",
   "execution_count": 7,
   "metadata": {},
   "outputs": [
    {
     "data": {
      "text/plain": [
       "[]"
      ]
     },
     "execution_count": 7,
     "metadata": {},
     "output_type": "execute_result"
    }
   ],
   "source": [
    "[i for i in df.columns if df[i].isnull().sum() > 0]"
   ]
  },
  {
   "cell_type": "code",
   "execution_count": 8,
   "metadata": {},
   "outputs": [
    {
     "data": {
      "text/plain": [
       "[]"
      ]
     },
     "execution_count": 8,
     "metadata": {},
     "output_type": "execute_result"
    }
   ],
   "source": [
    "[i for i in df.columns if df[i].dtype == 'object']"
   ]
  },
  {
   "cell_type": "code",
   "execution_count": 9,
   "metadata": {},
   "outputs": [],
   "source": [
    "X = df.drop(['1024'], axis=1)\n",
    "y = df['1024']\n",
    "\n",
    "y = y.astype('int')\n",
    "\n",
    "X_train, X_test, y_train, y_test = train_test_split(X, y, test_size=0.2, random_state=42)"
   ]
  },
  {
   "cell_type": "code",
   "execution_count": 10,
   "metadata": {},
   "outputs": [],
   "source": [
    "prob = []\n",
    "correct = []"
   ]
  },
  {
   "cell_type": "code",
   "execution_count": 11,
   "metadata": {},
   "outputs": [],
   "source": [
    "max_iter_list = [100, 200, 300, 400, 500, 600, 700, 800, 900, 1000]\n",
    "l1_ratio_list = [0.1, 0.2, 0.3, 0.4, 0.5, 0.6, 0.7, 0.8, 0.9]\n",
    "train_accuracy = {}\n",
    "test_accuracy = {}"
   ]
  },
  {
   "cell_type": "code",
   "execution_count": 12,
   "metadata": {},
   "outputs": [
    {
     "data": {
      "text/html": [
       "<pre style=\"white-space:pre;overflow-x:auto;line-height:normal;font-family:Menlo,'DejaVu Sans Mono',consolas,'Courier New',monospace\">Max Iter: <span style=\"color: #008080; text-decoration-color: #008080; font-weight: bold\">100</span>, Train Accuracy: <span style=\"color: #008080; text-decoration-color: #008080; font-weight: bold\">0.9801041666666667</span>, Test Accuracy: <span style=\"color: #008080; text-decoration-color: #008080; font-weight: bold\">0.97875</span>\n",
       "</pre>\n"
      ],
      "text/plain": [
       "Max Iter: \u001b[1;36m100\u001b[0m, Train Accuracy: \u001b[1;36m0.9801041666666667\u001b[0m, Test Accuracy: \u001b[1;36m0.97875\u001b[0m\n"
      ]
     },
     "metadata": {},
     "output_type": "display_data"
    },
    {
     "data": {
      "text/html": [
       "<pre style=\"white-space:pre;overflow-x:auto;line-height:normal;font-family:Menlo,'DejaVu Sans Mono',consolas,'Courier New',monospace\">Max Iter: <span style=\"color: #008080; text-decoration-color: #008080; font-weight: bold\">200</span>, Train Accuracy: <span style=\"color: #008080; text-decoration-color: #008080; font-weight: bold\">0.9801041666666667</span>, Test Accuracy: <span style=\"color: #008080; text-decoration-color: #008080; font-weight: bold\">0.97875</span>\n",
       "</pre>\n"
      ],
      "text/plain": [
       "Max Iter: \u001b[1;36m200\u001b[0m, Train Accuracy: \u001b[1;36m0.9801041666666667\u001b[0m, Test Accuracy: \u001b[1;36m0.97875\u001b[0m\n"
      ]
     },
     "metadata": {},
     "output_type": "display_data"
    },
    {
     "data": {
      "text/html": [
       "<pre style=\"white-space:pre;overflow-x:auto;line-height:normal;font-family:Menlo,'DejaVu Sans Mono',consolas,'Courier New',monospace\">Max Iter: <span style=\"color: #008080; text-decoration-color: #008080; font-weight: bold\">300</span>, Train Accuracy: <span style=\"color: #008080; text-decoration-color: #008080; font-weight: bold\">0.980625</span>, Test Accuracy: <span style=\"color: #008080; text-decoration-color: #008080; font-weight: bold\">0.97875</span>\n",
       "</pre>\n"
      ],
      "text/plain": [
       "Max Iter: \u001b[1;36m300\u001b[0m, Train Accuracy: \u001b[1;36m0.980625\u001b[0m, Test Accuracy: \u001b[1;36m0.97875\u001b[0m\n"
      ]
     },
     "metadata": {},
     "output_type": "display_data"
    },
    {
     "data": {
      "text/html": [
       "<pre style=\"white-space:pre;overflow-x:auto;line-height:normal;font-family:Menlo,'DejaVu Sans Mono',consolas,'Courier New',monospace\">Max Iter: <span style=\"color: #008080; text-decoration-color: #008080; font-weight: bold\">400</span>, Train Accuracy: <span style=\"color: #008080; text-decoration-color: #008080; font-weight: bold\">0.9809375</span>, Test Accuracy: <span style=\"color: #008080; text-decoration-color: #008080; font-weight: bold\">0.9795833333333334</span>\n",
       "</pre>\n"
      ],
      "text/plain": [
       "Max Iter: \u001b[1;36m400\u001b[0m, Train Accuracy: \u001b[1;36m0.9809375\u001b[0m, Test Accuracy: \u001b[1;36m0.9795833333333334\u001b[0m\n"
      ]
     },
     "metadata": {},
     "output_type": "display_data"
    },
    {
     "data": {
      "text/html": [
       "<pre style=\"white-space:pre;overflow-x:auto;line-height:normal;font-family:Menlo,'DejaVu Sans Mono',consolas,'Courier New',monospace\">Max Iter: <span style=\"color: #008080; text-decoration-color: #008080; font-weight: bold\">500</span>, Train Accuracy: <span style=\"color: #008080; text-decoration-color: #008080; font-weight: bold\">0.9816666666666667</span>, Test Accuracy: <span style=\"color: #008080; text-decoration-color: #008080; font-weight: bold\">0.98</span>\n",
       "</pre>\n"
      ],
      "text/plain": [
       "Max Iter: \u001b[1;36m500\u001b[0m, Train Accuracy: \u001b[1;36m0.9816666666666667\u001b[0m, Test Accuracy: \u001b[1;36m0.98\u001b[0m\n"
      ]
     },
     "metadata": {},
     "output_type": "display_data"
    },
    {
     "data": {
      "text/html": [
       "<pre style=\"white-space:pre;overflow-x:auto;line-height:normal;font-family:Menlo,'DejaVu Sans Mono',consolas,'Courier New',monospace\">Max Iter: <span style=\"color: #008080; text-decoration-color: #008080; font-weight: bold\">600</span>, Train Accuracy: <span style=\"color: #008080; text-decoration-color: #008080; font-weight: bold\">0.9817708333333334</span>, Test Accuracy: <span style=\"color: #008080; text-decoration-color: #008080; font-weight: bold\">0.98</span>\n",
       "</pre>\n"
      ],
      "text/plain": [
       "Max Iter: \u001b[1;36m600\u001b[0m, Train Accuracy: \u001b[1;36m0.9817708333333334\u001b[0m, Test Accuracy: \u001b[1;36m0.98\u001b[0m\n"
      ]
     },
     "metadata": {},
     "output_type": "display_data"
    },
    {
     "data": {
      "text/html": [
       "<pre style=\"white-space:pre;overflow-x:auto;line-height:normal;font-family:Menlo,'DejaVu Sans Mono',consolas,'Courier New',monospace\">Max Iter: <span style=\"color: #008080; text-decoration-color: #008080; font-weight: bold\">700</span>, Train Accuracy: <span style=\"color: #008080; text-decoration-color: #008080; font-weight: bold\">0.981875</span>, Test Accuracy: <span style=\"color: #008080; text-decoration-color: #008080; font-weight: bold\">0.9804166666666667</span>\n",
       "</pre>\n"
      ],
      "text/plain": [
       "Max Iter: \u001b[1;36m700\u001b[0m, Train Accuracy: \u001b[1;36m0.981875\u001b[0m, Test Accuracy: \u001b[1;36m0.9804166666666667\u001b[0m\n"
      ]
     },
     "metadata": {},
     "output_type": "display_data"
    },
    {
     "data": {
      "text/html": [
       "<pre style=\"white-space:pre;overflow-x:auto;line-height:normal;font-family:Menlo,'DejaVu Sans Mono',consolas,'Courier New',monospace\">Max Iter: <span style=\"color: #008080; text-decoration-color: #008080; font-weight: bold\">800</span>, Train Accuracy: <span style=\"color: #008080; text-decoration-color: #008080; font-weight: bold\">0.9825</span>, Test Accuracy: <span style=\"color: #008080; text-decoration-color: #008080; font-weight: bold\">0.9795833333333334</span>\n",
       "</pre>\n"
      ],
      "text/plain": [
       "Max Iter: \u001b[1;36m800\u001b[0m, Train Accuracy: \u001b[1;36m0.9825\u001b[0m, Test Accuracy: \u001b[1;36m0.9795833333333334\u001b[0m\n"
      ]
     },
     "metadata": {},
     "output_type": "display_data"
    },
    {
     "data": {
      "text/html": [
       "<pre style=\"white-space:pre;overflow-x:auto;line-height:normal;font-family:Menlo,'DejaVu Sans Mono',consolas,'Courier New',monospace\">Max Iter: <span style=\"color: #008080; text-decoration-color: #008080; font-weight: bold\">900</span>, Train Accuracy: <span style=\"color: #008080; text-decoration-color: #008080; font-weight: bold\">0.9822916666666667</span>, Test Accuracy: <span style=\"color: #008080; text-decoration-color: #008080; font-weight: bold\">0.98</span>\n",
       "</pre>\n"
      ],
      "text/plain": [
       "Max Iter: \u001b[1;36m900\u001b[0m, Train Accuracy: \u001b[1;36m0.9822916666666667\u001b[0m, Test Accuracy: \u001b[1;36m0.98\u001b[0m\n"
      ]
     },
     "metadata": {},
     "output_type": "display_data"
    }
   ],
   "source": [
    "# Logistic Regression\n",
    "for max_iter, l1_ratio in zip(max_iter_list, l1_ratio_list):\n",
    "    model = LogisticRegression(max_iter=max_iter, n_jobs=-1, random_state=42, l1_ratio=l1_ratio)\n",
    "    model.fit(X_train, y_train)\n",
    "    y_pred_train = model.predict_proba(X_train)\n",
    "    prob.append(y_pred_train[np.arange(len(y_train)), y_train])\n",
    "    correct.append(y_train == np.argmax(y_pred_train, axis=1))\n",
    "    y_pred = model.predict(X_test)\n",
    "    train_accuracy[max_iter] = accuracy_score(y_train, np.argmax(y_pred_train, axis=1))\n",
    "    test_accuracy[max_iter] = accuracy_score(y_test, y_pred)\n",
    "    rprint(f\"Max Iter: {max_iter}, Train Accuracy: {train_accuracy[max_iter]}, Test Accuracy: {test_accuracy[max_iter]}\")"
   ]
  },
  {
   "cell_type": "code",
   "execution_count": 13,
   "metadata": {},
   "outputs": [],
   "source": [
    "max_test_accuracy = max(test_accuracy, key=test_accuracy.get)"
   ]
  },
  {
   "cell_type": "code",
   "execution_count": 14,
   "metadata": {},
   "outputs": [],
   "source": [
    "prob = np.array(prob)\n",
    "correct = np.array(correct)"
   ]
  },
  {
   "cell_type": "code",
   "execution_count": 15,
   "metadata": {},
   "outputs": [],
   "source": [
    "prob = prob.T\n",
    "correct = correct.T"
   ]
  },
  {
   "cell_type": "code",
   "execution_count": 16,
   "metadata": {},
   "outputs": [],
   "source": [
    "mean = np.mean(prob, axis=1)\n",
    "std = np.std(prob, axis=1)\n",
    "varibility = std / mean"
   ]
  },
  {
   "cell_type": "code",
   "execution_count": 17,
   "metadata": {},
   "outputs": [],
   "source": [
    "correctness = np.mean(correct, axis=1)"
   ]
  },
  {
   "cell_type": "code",
   "execution_count": 18,
   "metadata": {},
   "outputs": [
    {
     "data": {
      "text/plain": [
       "(9600,)"
      ]
     },
     "execution_count": 18,
     "metadata": {},
     "output_type": "execute_result"
    }
   ],
   "source": [
    "varibility.shape"
   ]
  },
  {
   "cell_type": "code",
   "execution_count": 19,
   "metadata": {},
   "outputs": [
    {
     "data": {
      "text/plain": [
       "(9600,)"
      ]
     },
     "execution_count": 19,
     "metadata": {},
     "output_type": "execute_result"
    }
   ],
   "source": [
    "correctness.shape"
   ]
  },
  {
   "cell_type": "code",
   "execution_count": 20,
   "metadata": {},
   "outputs": [
    {
     "data": {
      "image/png": "[encoded data removed]",
      "text/plain": [
       "<Figure size 640x480 with 2 Axes>"
      ]
     },
     "metadata": {},
     "output_type": "display_data"
    }
   ],
   "source": [
    "plt.figure()\n",
    "plt.scatter(varibility, mean, c=correctness, cmap='coolwarm')\n",
    "plt.colorbar(label = 'correctness')\n",
    "plt.xlabel('varibility')\n",
    "plt.ylabel('mean')\n",
    "plt.xlim(0, 1)\n",
    "plt.ylim(0, 1)\n",
    "plt.show()"
   ]
  },
  {
   "cell_type": "code",
   "execution_count": 21,
   "metadata": {},
   "outputs": [],
   "source": [
    "correctness_min, correctness_max = np.min(correctness), np.max(correctness)"
   ]
  },
  {
   "cell_type": "code",
   "execution_count": 22,
   "metadata": {},
   "outputs": [
    {
     "data": {
      "text/plain": [
       "[[0.0, 0.3], [0.3, 0.6], [0.6, 0.8999999999999999], [0.8999999999999999, 1.2]]"
      ]
     },
     "execution_count": 22,
     "metadata": {},
     "output_type": "execute_result"
    }
   ],
   "source": [
    "# pick range\n",
    "correctness_range = [[min_i, min_i + 0.3] for min_i in np.arange(correctness_min, 1.2, 0.3)]\n",
    "correctness_range"
   ]
  },
  {
   "cell_type": "code",
   "execution_count": 23,
   "metadata": {},
   "outputs": [],
   "source": [
    "pick = []\n",
    "for j in range(len(correctness_range)):\n",
    "    pick.append([idx for idx,i in enumerate(correctness) if correctness_range[j][0] <= i < correctness_range[j][1]])"
   ]
  },
  {
   "cell_type": "code",
   "execution_count": 24,
   "metadata": {},
   "outputs": [],
   "source": [
    "pick_train_x = []\n",
    "pick_train_y = []\n",
    "for i in pick:\n",
    "    pick_train_x.append(X_train.iloc[i, :])\n",
    "    pick_train_y.append(y_train.iloc[i])"
   ]
  },
  {
   "cell_type": "code",
   "execution_count": 25,
   "metadata": {},
   "outputs": [],
   "source": [
    "def decrease_max_iter(index:int) -> int:\n",
    "    base = 1300\n",
    "    return max(100, base - index * 300)\n",
    "\n",
    "def decrease_l1_ratio(index:int) -> float:\n",
    "    base = 0.9\n",
    "    return max(0.1, base - index * 0.2)"
   ]
  },
  {
   "cell_type": "code",
   "execution_count": 26,
   "metadata": {},
   "outputs": [
    {
     "name": "stdout",
     "output_type": "stream",
     "text": [
      "Model 0 is trained     \n",
      "Model 1 is trained     \n",
      "Model 2 is trained     \n",
      "Model 3 is trained     \n"
     ]
    }
   ],
   "source": [
    "model_list = []\n",
    "for idx in range(len(pick_train_x)):\n",
    "    model = LogisticRegression(max_iter=decrease_max_iter(idx), n_jobs=-1, random_state=42, l1_ratio=decrease_l1_ratio(idx))\n",
    "    print(f\"Model {idx} is training\", end=\"\\r\")\n",
    "    if len(pick_train_x[idx]) == 0:\n",
    "        print(f\"Model {idx} is skipped     \")\n",
    "        continue\n",
    "    model.fit(pick_train_x[idx], pick_train_y[idx])\n",
    "    model_list.append(model)\n",
    "    print(f\"Model {idx} is trained     \")"
   ]
  },
  {
   "cell_type": "code",
   "execution_count": 27,
   "metadata": {},
   "outputs": [
    {
     "data": {
      "text/html": [
       "<pre style=\"white-space:pre;overflow-x:auto;line-height:normal;font-family:Menlo,'DejaVu Sans Mono',consolas,'Courier New',monospace\"><span style=\"font-weight: bold\">[</span>\n",
       "    <span style=\"font-weight: bold\">(</span><span style=\"color: #008000; text-decoration-color: #008000\">'model_0'</span>, <span style=\"color: #800080; text-decoration-color: #800080; font-weight: bold\">LogisticRegression</span><span style=\"font-weight: bold\">(</span><span style=\"color: #808000; text-decoration-color: #808000\">l1_ratio</span>=<span style=\"color: #008080; text-decoration-color: #008080; font-weight: bold\">0.9</span>, <span style=\"color: #808000; text-decoration-color: #808000\">max_iter</span>=<span style=\"color: #008080; text-decoration-color: #008080; font-weight: bold\">1300</span>, <span style=\"color: #808000; text-decoration-color: #808000\">n_jobs</span>=<span style=\"color: #008080; text-decoration-color: #008080; font-weight: bold\">-1</span>, <span style=\"color: #808000; text-decoration-color: #808000\">random_state</span>=<span style=\"color: #008080; text-decoration-color: #008080; font-weight: bold\">42</span><span style=\"font-weight: bold\">))</span>,\n",
       "    <span style=\"font-weight: bold\">(</span><span style=\"color: #008000; text-decoration-color: #008000\">'model_1'</span>, <span style=\"color: #800080; text-decoration-color: #800080; font-weight: bold\">LogisticRegression</span><span style=\"font-weight: bold\">(</span><span style=\"color: #808000; text-decoration-color: #808000\">l1_ratio</span>=<span style=\"color: #008080; text-decoration-color: #008080; font-weight: bold\">0.7</span>, <span style=\"color: #808000; text-decoration-color: #808000\">max_iter</span>=<span style=\"color: #008080; text-decoration-color: #008080; font-weight: bold\">1000</span>, <span style=\"color: #808000; text-decoration-color: #808000\">n_jobs</span>=<span style=\"color: #008080; text-decoration-color: #008080; font-weight: bold\">-1</span>, <span style=\"color: #808000; text-decoration-color: #808000\">random_state</span>=<span style=\"color: #008080; text-decoration-color: #008080; font-weight: bold\">42</span><span style=\"font-weight: bold\">))</span>,\n",
       "    <span style=\"font-weight: bold\">(</span><span style=\"color: #008000; text-decoration-color: #008000\">'model_2'</span>, <span style=\"color: #800080; text-decoration-color: #800080; font-weight: bold\">LogisticRegression</span><span style=\"font-weight: bold\">(</span><span style=\"color: #808000; text-decoration-color: #808000\">l1_ratio</span>=<span style=\"color: #008080; text-decoration-color: #008080; font-weight: bold\">0.5</span>, <span style=\"color: #808000; text-decoration-color: #808000\">max_iter</span>=<span style=\"color: #008080; text-decoration-color: #008080; font-weight: bold\">700</span>, <span style=\"color: #808000; text-decoration-color: #808000\">n_jobs</span>=<span style=\"color: #008080; text-decoration-color: #008080; font-weight: bold\">-1</span>, <span style=\"color: #808000; text-decoration-color: #808000\">random_state</span>=<span style=\"color: #008080; text-decoration-color: #008080; font-weight: bold\">42</span><span style=\"font-weight: bold\">))</span>,\n",
       "    <span style=\"font-weight: bold\">(</span>\n",
       "        <span style=\"color: #008000; text-decoration-color: #008000\">'model_3'</span>,\n",
       "        <span style=\"color: #800080; text-decoration-color: #800080; font-weight: bold\">LogisticRegression</span><span style=\"font-weight: bold\">(</span><span style=\"color: #808000; text-decoration-color: #808000\">l1_ratio</span>=<span style=\"color: #008080; text-decoration-color: #008080; font-weight: bold\">0.29999999999999993</span>, <span style=\"color: #808000; text-decoration-color: #808000\">max_iter</span>=<span style=\"color: #008080; text-decoration-color: #008080; font-weight: bold\">400</span>, <span style=\"color: #808000; text-decoration-color: #808000\">n_jobs</span>=<span style=\"color: #008080; text-decoration-color: #008080; font-weight: bold\">-1</span>,\n",
       "                   <span style=\"color: #808000; text-decoration-color: #808000\">random_state</span>=<span style=\"color: #008080; text-decoration-color: #008080; font-weight: bold\">42</span><span style=\"font-weight: bold\">)</span>\n",
       "    <span style=\"font-weight: bold\">)</span>\n",
       "<span style=\"font-weight: bold\">]</span>\n",
       "</pre>\n"
      ],
      "text/plain": [
       "\u001b[1m[\u001b[0m\n",
       "    \u001b[1m(\u001b[0m\u001b[32m'model_0'\u001b[0m, \u001b[1;35mLogisticRegression\u001b[0m\u001b[1m(\u001b[0m\u001b[33ml1_ratio\u001b[0m=\u001b[1;36m0\u001b[0m\u001b[1;36m.9\u001b[0m, \u001b[33mmax_iter\u001b[0m=\u001b[1;36m1300\u001b[0m, \u001b[33mn_jobs\u001b[0m=\u001b[1;36m-1\u001b[0m, \u001b[33mrandom_state\u001b[0m=\u001b[1;36m42\u001b[0m\u001b[1m)\u001b[0m\u001b[1m)\u001b[0m,\n",
       "    \u001b[1m(\u001b[0m\u001b[32m'model_1'\u001b[0m, \u001b[1;35mLogisticRegression\u001b[0m\u001b[1m(\u001b[0m\u001b[33ml1_ratio\u001b[0m=\u001b[1;36m0\u001b[0m\u001b[1;36m.7\u001b[0m, \u001b[33mmax_iter\u001b[0m=\u001b[1;36m1000\u001b[0m, \u001b[33mn_jobs\u001b[0m=\u001b[1;36m-1\u001b[0m, \u001b[33mrandom_state\u001b[0m=\u001b[1;36m42\u001b[0m\u001b[1m)\u001b[0m\u001b[1m)\u001b[0m,\n",
       "    \u001b[1m(\u001b[0m\u001b[32m'model_2'\u001b[0m, \u001b[1;35mLogisticRegression\u001b[0m\u001b[1m(\u001b[0m\u001b[33ml1_ratio\u001b[0m=\u001b[1;36m0\u001b[0m\u001b[1;36m.5\u001b[0m, \u001b[33mmax_iter\u001b[0m=\u001b[1;36m700\u001b[0m, \u001b[33mn_jobs\u001b[0m=\u001b[1;36m-1\u001b[0m, \u001b[33mrandom_state\u001b[0m=\u001b[1;36m42\u001b[0m\u001b[1m)\u001b[0m\u001b[1m)\u001b[0m,\n",
       "    \u001b[1m(\u001b[0m\n",
       "        \u001b[32m'model_3'\u001b[0m,\n",
       "        \u001b[1;35mLogisticRegression\u001b[0m\u001b[1m(\u001b[0m\u001b[33ml1_ratio\u001b[0m=\u001b[1;36m0\u001b[0m\u001b[1;36m.29999999999999993\u001b[0m, \u001b[33mmax_iter\u001b[0m=\u001b[1;36m400\u001b[0m, \u001b[33mn_jobs\u001b[0m=\u001b[1;36m-1\u001b[0m,\n",
       "                   \u001b[33mrandom_state\u001b[0m=\u001b[1;36m42\u001b[0m\u001b[1m)\u001b[0m\n",
       "    \u001b[1m)\u001b[0m\n",
       "\u001b[1m]\u001b[0m\n"
      ]
     },
     "metadata": {},
     "output_type": "display_data"
    },
    {
     "data": {
      "text/html": [
       "<pre style=\"white-space:pre;overflow-x:auto;line-height:normal;font-family:Menlo,'DejaVu Sans Mono',consolas,'Courier New',monospace\">Ensemble Accuracy: <span style=\"color: #008080; text-decoration-color: #008080; font-weight: bold\">0.9804166666666667</span>\n",
       "</pre>\n"
      ],
      "text/plain": [
       "Ensemble Accuracy: \u001b[1;36m0.9804166666666667\u001b[0m\n"
      ]
     },
     "metadata": {},
     "output_type": "display_data"
    }
   ],
   "source": [
    "# Ensemble\n",
    "from sklearn.ensemble import VotingClassifier\n",
    "\n",
    "model_list = [(f\"model_{idx}\", model) for idx, model in enumerate(model_list)]\n",
    "rprint(model_list)\n",
    "\n",
    "vc = VotingClassifier(estimators=model_list, n_jobs=-1)\n",
    "vc.fit(X_train, y_train)\n",
    "y_pred = vc.predict(X_test)\n",
    "vc_acc = accuracy_score(y_test, y_pred)\n",
    "rprint(f\"Ensemble Accuracy: {vc_acc}\")"
   ]
  },
  {
   "cell_type": "code",
   "execution_count": 28,
   "metadata": {},
   "outputs": [
    {
     "data": {
      "text/html": [
       "<pre style=\"white-space:pre;overflow-x:auto;line-height:normal;font-family:Menlo,'DejaVu Sans Mono',consolas,'Courier New',monospace\">沒有提升\n",
       "</pre>\n"
      ],
      "text/plain": [
       "沒有提升\n"
      ]
     },
     "metadata": {},
     "output_type": "display_data"
    }
   ],
   "source": [
    "rprint(f\"提升 {((vc_acc / max_test_accuracy) - 1 ) * 100:.4f} %\") if vc_acc > max_test_accuracy else rprint(\"沒有提升\")"
   ]
  },
  {
   "cell_type": "code",
   "execution_count": 29,
   "metadata": {},
   "outputs": [
    {
     "data": {
      "text/html": [
       "<style>#sk-container-id-1 {\n",
       "  /* Definition of color scheme common for light and dark mode */\n",
       "  --sklearn-color-text: black;\n",
       "  --sklearn-color-line: gray;\n",
       "  /* Definition of color scheme for unfitted estimators */\n",
       "  --sklearn-color-unfitted-level-0: #fff5e6;\n",
       "  --sklearn-color-unfitted-level-1: #f6e4d2;\n",
       "  --sklearn-color-unfitted-level-2: #ffe0b3;\n",
       "  --sklearn-color-unfitted-level-3: chocolate;\n",
       "  /* Definition of color scheme for fitted estimators */\n",
       "  --sklearn-color-fitted-level-0: #f0f8ff;\n",
       "  --sklearn-color-fitted-level-1: #d4ebff;\n",
       "  --sklearn-color-fitted-level-2: #b3dbfd;\n",
       "  --sklearn-color-fitted-level-3: cornflowerblue;\n",
       "\n",
       "  /* Specific color for light theme */\n",
       "  --sklearn-color-text-on-default-background: var(--sg-text-color, var(--theme-code-foreground, var(--jp-content-font-color1, black)));\n",
       "  --sklearn-color-background: var(--sg-background-color, var(--theme-background, var(--jp-layout-color0, white)));\n",
       "  --sklearn-color-border-box: var(--sg-text-color, var(--theme-code-foreground, var(--jp-content-font-color1, black)));\n",
       "  --sklearn-color-icon: #696969;\n",
       "\n",
       "  @media (prefers-color-scheme: dark) {\n",
       "    /* Redefinition of color scheme for dark theme */\n",
       "    --sklearn-color-text-on-default-background: var(--sg-text-color, var(--theme-code-foreground, var(--jp-content-font-color1, white)));\n",
       "    --sklearn-color-background: var(--sg-background-color, var(--theme-background, var(--jp-layout-color0, #111)));\n",
       "    --sklearn-color-border-box: var(--sg-text-color, var(--theme-code-foreground, var(--jp-content-font-color1, white)));\n",
       "    --sklearn-color-icon: #878787;\n",
       "  }\n",
       "}\n",
       "\n",
       "#sk-container-id-1 {\n",
       "  color: var(--sklearn-color-text);\n",
       "}\n",
       "\n",
       "#sk-container-id-1 pre {\n",
       "  padding: 0;\n",
       "}\n",
       "\n",
       "#sk-container-id-1 input.sk-hidden--visually {\n",
       "  border: 0;\n",
       "  clip: rect(1px 1px 1px 1px);\n",
       "  clip: rect(1px, 1px, 1px, 1px);\n",
       "  height: 1px;\n",
       "  margin: -1px;\n",
       "  overflow: hidden;\n",
       "  padding: 0;\n",
       "  position: absolute;\n",
       "  width: 1px;\n",
       "}\n",
       "\n",
       "#sk-container-id-1 div.sk-dashed-wrapped {\n",
       "  border: 1px dashed var(--sklearn-color-line);\n",
       "  margin: 0 0.4em 0.5em 0.4em;\n",
       "  box-sizing: border-box;\n",
       "  padding-bottom: 0.4em;\n",
       "  background-color: var(--sklearn-color-background);\n",
       "}\n",
       "\n",
       "#sk-container-id-1 div.sk-container {\n",
       "  /* jupyter's `normalize.less` sets `[hidden] { display: none; }`\n",
       "     but bootstrap.min.css set `[hidden] { display: none !important; }`\n",
       "     so we also need the `!important` here to be able to override the\n",
       "     default hidden behavior on the sphinx rendered scikit-learn.org.\n",
       "     See: https://github.com/scikit-learn/scikit-learn/issues/21755 */\n",
       "  display: inline-block !important;\n",
       "  position: relative;\n",
       "}\n",
       "\n",
       "#sk-container-id-1 div.sk-text-repr-fallback {\n",
       "  display: none;\n",
       "}\n",
       "\n",
       "div.sk-parallel-item,\n",
       "div.sk-serial,\n",
       "div.sk-item {\n",
       "  /* draw centered vertical line to link estimators */\n",
       "  background-image: linear-gradient(var(--sklearn-color-text-on-default-background), var(--sklearn-color-text-on-default-background));\n",
       "  background-size: 2px 100%;\n",
       "  background-repeat: no-repeat;\n",
       "  background-position: center center;\n",
       "}\n",
       "\n",
       "/* Parallel-specific style estimator block */\n",
       "\n",
       "#sk-container-id-1 div.sk-parallel-item::after {\n",
       "  content: \"\";\n",
       "  width: 100%;\n",
       "  border-bottom: 2px solid var(--sklearn-color-text-on-default-background);\n",
       "  flex-grow: 1;\n",
       "}\n",
       "\n",
       "#sk-container-id-1 div.sk-parallel {\n",
       "  display: flex;\n",
       "  align-items: stretch;\n",
       "  justify-content: center;\n",
       "  background-color: var(--sklearn-color-background);\n",
       "  position: relative;\n",
       "}\n",
       "\n",
       "#sk-container-id-1 div.sk-parallel-item {\n",
       "  display: flex;\n",
       "  flex-direction: column;\n",
       "}\n",
       "\n",
       "#sk-container-id-1 div.sk-parallel-item:first-child::after {\n",
       "  align-self: flex-end;\n",
       "  width: 50%;\n",
       "}\n",
       "\n",
       "#sk-container-id-1 div.sk-parallel-item:last-child::after {\n",
       "  align-self: flex-start;\n",
       "  width: 50%;\n",
       "}\n",
       "\n",
       "#sk-container-id-1 div.sk-parallel-item:only-child::after {\n",
       "  width: 0;\n",
       "}\n",
       "\n",
       "/* Serial-specific style estimator block */\n",
       "\n",
       "#sk-container-id-1 div.sk-serial {\n",
       "  display: flex;\n",
       "  flex-direction: column;\n",
       "  align-items: center;\n",
       "  background-color: var(--sklearn-color-background);\n",
       "  padding-right: 1em;\n",
       "  padding-left: 1em;\n",
       "}\n",
       "\n",
       "\n",
       "/* Toggleable style: style used for estimator/Pipeline/ColumnTransformer box that is\n",
       "clickable and can be expanded/collapsed.\n",
       "- Pipeline and ColumnTransformer use this feature and define the default style\n",
       "- Estimators will overwrite some part of the style using the `sk-estimator` class\n",
       "*/\n",
       "\n",
       "/* Pipeline and ColumnTransformer style (default) */\n",
       "\n",
       "#sk-container-id-1 div.sk-toggleable {\n",
       "  /* Default theme specific background. It is overwritten whether we have a\n",
       "  specific estimator or a Pipeline/ColumnTransformer */\n",
       "  background-color: var(--sklearn-color-background);\n",
       "}\n",
       "\n",
       "/* Toggleable label */\n",
       "#sk-container-id-1 label.sk-toggleable__label {\n",
       "  cursor: pointer;\n",
       "  display: block;\n",
       "  width: 100%;\n",
       "  margin-bottom: 0;\n",
       "  padding: 0.5em;\n",
       "  box-sizing: border-box;\n",
       "  text-align: center;\n",
       "}\n",
       "\n",
       "#sk-container-id-1 label.sk-toggleable__label-arrow:before {\n",
       "  /* Arrow on the left of the label */\n",
       "  content: \"▸\";\n",
       "  float: left;\n",
       "  margin-right: 0.25em;\n",
       "  color: var(--sklearn-color-icon);\n",
       "}\n",
       "\n",
       "#sk-container-id-1 label.sk-toggleable__label-arrow:hover:before {\n",
       "  color: var(--sklearn-color-text);\n",
       "}\n",
       "\n",
       "/* Toggleable content - dropdown */\n",
       "\n",
       "#sk-container-id-1 div.sk-toggleable__content {\n",
       "  max-height: 0;\n",
       "  max-width: 0;\n",
       "  overflow: hidden;\n",
       "  text-align: left;\n",
       "  /* unfitted */\n",
       "  background-color: var(--sklearn-color-unfitted-level-0);\n",
       "}\n",
       "\n",
       "#sk-container-id-1 div.sk-toggleable__content.fitted {\n",
       "  /* fitted */\n",
       "  background-color: var(--sklearn-color-fitted-level-0);\n",
       "}\n",
       "\n",
       "#sk-container-id-1 div.sk-toggleable__content pre {\n",
       "  margin: 0.2em;\n",
       "  border-radius: 0.25em;\n",
       "  color: var(--sklearn-color-text);\n",
       "  /* unfitted */\n",
       "  background-color: var(--sklearn-color-unfitted-level-0);\n",
       "}\n",
       "\n",
       "#sk-container-id-1 div.sk-toggleable__content.fitted pre {\n",
       "  /* unfitted */\n",
       "  background-color: var(--sklearn-color-fitted-level-0);\n",
       "}\n",
       "\n",
       "#sk-container-id-1 input.sk-toggleable__control:checked~div.sk-toggleable__content {\n",
       "  /* Expand drop-down */\n",
       "  max-height: 200px;\n",
       "  max-width: 100%;\n",
       "  overflow: auto;\n",
       "}\n",
       "\n",
       "#sk-container-id-1 input.sk-toggleable__control:checked~label.sk-toggleable__label-arrow:before {\n",
       "  content: \"▾\";\n",
       "}\n",
       "\n",
       "/* Pipeline/ColumnTransformer-specific style */\n",
       "\n",
       "#sk-container-id-1 div.sk-label input.sk-toggleable__control:checked~label.sk-toggleable__label {\n",
       "  color: var(--sklearn-color-text);\n",
       "  background-color: var(--sklearn-color-unfitted-level-2);\n",
       "}\n",
       "\n",
       "#sk-container-id-1 div.sk-label.fitted input.sk-toggleable__control:checked~label.sk-toggleable__label {\n",
       "  background-color: var(--sklearn-color-fitted-level-2);\n",
       "}\n",
       "\n",
       "/* Estimator-specific style */\n",
       "\n",
       "/* Colorize estimator box */\n",
       "#sk-container-id-1 div.sk-estimator input.sk-toggleable__control:checked~label.sk-toggleable__label {\n",
       "  /* unfitted */\n",
       "  background-color: var(--sklearn-color-unfitted-level-2);\n",
       "}\n",
       "\n",
       "#sk-container-id-1 div.sk-estimator.fitted input.sk-toggleable__control:checked~label.sk-toggleable__label {\n",
       "  /* fitted */\n",
       "  background-color: var(--sklearn-color-fitted-level-2);\n",
       "}\n",
       "\n",
       "#sk-container-id-1 div.sk-label label.sk-toggleable__label,\n",
       "#sk-container-id-1 div.sk-label label {\n",
       "  /* The background is the default theme color */\n",
       "  color: var(--sklearn-color-text-on-default-background);\n",
       "}\n",
       "\n",
       "/* On hover, darken the color of the background */\n",
       "#sk-container-id-1 div.sk-label:hover label.sk-toggleable__label {\n",
       "  color: var(--sklearn-color-text);\n",
       "  background-color: var(--sklearn-color-unfitted-level-2);\n",
       "}\n",
       "\n",
       "/* Label box, darken color on hover, fitted */\n",
       "#sk-container-id-1 div.sk-label.fitted:hover label.sk-toggleable__label.fitted {\n",
       "  color: var(--sklearn-color-text);\n",
       "  background-color: var(--sklearn-color-fitted-level-2);\n",
       "}\n",
       "\n",
       "/* Estimator label */\n",
       "\n",
       "#sk-container-id-1 div.sk-label label {\n",
       "  font-family: monospace;\n",
       "  font-weight: bold;\n",
       "  display: inline-block;\n",
       "  line-height: 1.2em;\n",
       "}\n",
       "\n",
       "#sk-container-id-1 div.sk-label-container {\n",
       "  text-align: center;\n",
       "}\n",
       "\n",
       "/* Estimator-specific */\n",
       "#sk-container-id-1 div.sk-estimator {\n",
       "  font-family: monospace;\n",
       "  border: 1px dotted var(--sklearn-color-border-box);\n",
       "  border-radius: 0.25em;\n",
       "  box-sizing: border-box;\n",
       "  margin-bottom: 0.5em;\n",
       "  /* unfitted */\n",
       "  background-color: var(--sklearn-color-unfitted-level-0);\n",
       "}\n",
       "\n",
       "#sk-container-id-1 div.sk-estimator.fitted {\n",
       "  /* fitted */\n",
       "  background-color: var(--sklearn-color-fitted-level-0);\n",
       "}\n",
       "\n",
       "/* on hover */\n",
       "#sk-container-id-1 div.sk-estimator:hover {\n",
       "  /* unfitted */\n",
       "  background-color: var(--sklearn-color-unfitted-level-2);\n",
       "}\n",
       "\n",
       "#sk-container-id-1 div.sk-estimator.fitted:hover {\n",
       "  /* fitted */\n",
       "  background-color: var(--sklearn-color-fitted-level-2);\n",
       "}\n",
       "\n",
       "/* Specification for estimator info (e.g. \"i\" and \"?\") */\n",
       "\n",
       "/* Common style for \"i\" and \"?\" */\n",
       "\n",
       ".sk-estimator-doc-link,\n",
       "a:link.sk-estimator-doc-link,\n",
       "a:visited.sk-estimator-doc-link {\n",
       "  float: right;\n",
       "  font-size: smaller;\n",
       "  line-height: 1em;\n",
       "  font-family: monospace;\n",
       "  background-color: var(--sklearn-color-background);\n",
       "  border-radius: 1em;\n",
       "  height: 1em;\n",
       "  width: 1em;\n",
       "  text-decoration: none !important;\n",
       "  margin-left: 1ex;\n",
       "  /* unfitted */\n",
       "  border: var(--sklearn-color-unfitted-level-1) 1pt solid;\n",
       "  color: var(--sklearn-color-unfitted-level-1);\n",
       "}\n",
       "\n",
       ".sk-estimator-doc-link.fitted,\n",
       "a:link.sk-estimator-doc-link.fitted,\n",
       "a:visited.sk-estimator-doc-link.fitted {\n",
       "  /* fitted */\n",
       "  border: var(--sklearn-color-fitted-level-1) 1pt solid;\n",
       "  color: var(--sklearn-color-fitted-level-1);\n",
       "}\n",
       "\n",
       "/* On hover */\n",
       "div.sk-estimator:hover .sk-estimator-doc-link:hover,\n",
       ".sk-estimator-doc-link:hover,\n",
       "div.sk-label-container:hover .sk-estimator-doc-link:hover,\n",
       ".sk-estimator-doc-link:hover {\n",
       "  /* unfitted */\n",
       "  background-color: var(--sklearn-color-unfitted-level-3);\n",
       "  color: var(--sklearn-color-background);\n",
       "  text-decoration: none;\n",
       "}\n",
       "\n",
       "div.sk-estimator.fitted:hover .sk-estimator-doc-link.fitted:hover,\n",
       ".sk-estimator-doc-link.fitted:hover,\n",
       "div.sk-label-container:hover .sk-estimator-doc-link.fitted:hover,\n",
       ".sk-estimator-doc-link.fitted:hover {\n",
       "  /* fitted */\n",
       "  background-color: var(--sklearn-color-fitted-level-3);\n",
       "  color: var(--sklearn-color-background);\n",
       "  text-decoration: none;\n",
       "}\n",
       "\n",
       "/* Span, style for the box shown on hovering the info icon */\n",
       ".sk-estimator-doc-link span {\n",
       "  display: none;\n",
       "  z-index: 9999;\n",
       "  position: relative;\n",
       "  font-weight: normal;\n",
       "  right: .2ex;\n",
       "  padding: .5ex;\n",
       "  margin: .5ex;\n",
       "  width: min-content;\n",
       "  min-width: 20ex;\n",
       "  max-width: 50ex;\n",
       "  color: var(--sklearn-color-text);\n",
       "  box-shadow: 2pt 2pt 4pt #999;\n",
       "  /* unfitted */\n",
       "  background: var(--sklearn-color-unfitted-level-0);\n",
       "  border: .5pt solid var(--sklearn-color-unfitted-level-3);\n",
       "}\n",
       "\n",
       ".sk-estimator-doc-link.fitted span {\n",
       "  /* fitted */\n",
       "  background: var(--sklearn-color-fitted-level-0);\n",
       "  border: var(--sklearn-color-fitted-level-3);\n",
       "}\n",
       "\n",
       ".sk-estimator-doc-link:hover span {\n",
       "  display: block;\n",
       "}\n",
       "\n",
       "/* \"?\"-specific style due to the `<a>` HTML tag */\n",
       "\n",
       "#sk-container-id-1 a.estimator_doc_link {\n",
       "  float: right;\n",
       "  font-size: 1rem;\n",
       "  line-height: 1em;\n",
       "  font-family: monospace;\n",
       "  background-color: var(--sklearn-color-background);\n",
       "  border-radius: 1rem;\n",
       "  height: 1rem;\n",
       "  width: 1rem;\n",
       "  text-decoration: none;\n",
       "  /* unfitted */\n",
       "  color: var(--sklearn-color-unfitted-level-1);\n",
       "  border: var(--sklearn-color-unfitted-level-1) 1pt solid;\n",
       "}\n",
       "\n",
       "#sk-container-id-1 a.estimator_doc_link.fitted {\n",
       "  /* fitted */\n",
       "  border: var(--sklearn-color-fitted-level-1) 1pt solid;\n",
       "  color: var(--sklearn-color-fitted-level-1);\n",
       "}\n",
       "\n",
       "/* On hover */\n",
       "#sk-container-id-1 a.estimator_doc_link:hover {\n",
       "  /* unfitted */\n",
       "  background-color: var(--sklearn-color-unfitted-level-3);\n",
       "  color: var(--sklearn-color-background);\n",
       "  text-decoration: none;\n",
       "}\n",
       "\n",
       "#sk-container-id-1 a.estimator_doc_link.fitted:hover {\n",
       "  /* fitted */\n",
       "  background-color: var(--sklearn-color-fitted-level-3);\n",
       "}\n",
       "</style><div id=\"sk-container-id-1\" class=\"sk-top-container\"><div class=\"sk-text-repr-fallback\"><pre>VotingClassifier(estimators=[(&#x27;model_0&#x27;,\n",
       "                              LogisticRegression(l1_ratio=0.9, max_iter=1300,\n",
       "                                                 n_jobs=-1, random_state=42)),\n",
       "                             (&#x27;model_1&#x27;,\n",
       "                              LogisticRegression(l1_ratio=0.7, max_iter=1000,\n",
       "                                                 n_jobs=-1, random_state=42)),\n",
       "                             (&#x27;model_2&#x27;,\n",
       "                              LogisticRegression(l1_ratio=0.5, max_iter=700,\n",
       "                                                 n_jobs=-1, random_state=42)),\n",
       "                             (&#x27;model_3&#x27;,\n",
       "                              LogisticRegression(l1_ratio=0.29999999999999993,\n",
       "                                                 max_iter=400, n_jobs=-1,\n",
       "                                                 random_state=42))],\n",
       "                 n_jobs=-1)</pre><b>In a Jupyter environment, please rerun this cell to show the HTML representation or trust the notebook. <br />On GitHub, the HTML representation is unable to render, please try loading this page with nbviewer.org.</b></div><div class=\"sk-container\" hidden><div class=\"sk-item sk-dashed-wrapped\"><div class=\"sk-label-container\"><div class=\"sk-label fitted sk-toggleable\"><input class=\"sk-toggleable__control sk-hidden--visually\" id=\"sk-estimator-id-1\" type=\"checkbox\" ><label for=\"sk-estimator-id-1\" class=\"sk-toggleable__label fitted sk-toggleable__label-arrow fitted\">&nbsp;&nbsp;VotingClassifier<a class=\"sk-estimator-doc-link fitted\" rel=\"noreferrer\" target=\"_blank\" href=\"https://scikit-learn.org/1.4/modules/generated/sklearn.ensemble.VotingClassifier.html\">?<span>Documentation for VotingClassifier</span></a><span class=\"sk-estimator-doc-link fitted\">i<span>Fitted</span></span></label><div class=\"sk-toggleable__content fitted\"><pre>VotingClassifier(estimators=[(&#x27;model_0&#x27;,\n",
       "                              LogisticRegression(l1_ratio=0.9, max_iter=1300,\n",
       "                                                 n_jobs=-1, random_state=42)),\n",
       "                             (&#x27;model_1&#x27;,\n",
       "                              LogisticRegression(l1_ratio=0.7, max_iter=1000,\n",
       "                                                 n_jobs=-1, random_state=42)),\n",
       "                             (&#x27;model_2&#x27;,\n",
       "                              LogisticRegression(l1_ratio=0.5, max_iter=700,\n",
       "                                                 n_jobs=-1, random_state=42)),\n",
       "                             (&#x27;model_3&#x27;,\n",
       "                              LogisticRegression(l1_ratio=0.29999999999999993,\n",
       "                                                 max_iter=400, n_jobs=-1,\n",
       "                                                 random_state=42))],\n",
       "                 n_jobs=-1)</pre></div> </div></div><div class=\"sk-parallel\"><div class=\"sk-parallel-item\"><div class=\"sk-item\"><div class=\"sk-label-container\"><div class=\"sk-label fitted sk-toggleable\"><label>model_0</label></div></div><div class=\"sk-serial\"><div class=\"sk-item\"><div class=\"sk-estimator fitted sk-toggleable\"><input class=\"sk-toggleable__control sk-hidden--visually\" id=\"sk-estimator-id-2\" type=\"checkbox\" ><label for=\"sk-estimator-id-2\" class=\"sk-toggleable__label fitted sk-toggleable__label-arrow fitted\">&nbsp;LogisticRegression<a class=\"sk-estimator-doc-link fitted\" rel=\"noreferrer\" target=\"_blank\" href=\"https://scikit-learn.org/1.4/modules/generated/sklearn.linear_model.LogisticRegression.html\">?<span>Documentation for LogisticRegression</span></a></label><div class=\"sk-toggleable__content fitted\"><pre>LogisticRegression(l1_ratio=0.9, max_iter=1300, n_jobs=-1, random_state=42)</pre></div> </div></div></div></div></div><div class=\"sk-parallel-item\"><div class=\"sk-item\"><div class=\"sk-label-container\"><div class=\"sk-label fitted sk-toggleable\"><label>model_1</label></div></div><div class=\"sk-serial\"><div class=\"sk-item\"><div class=\"sk-estimator fitted sk-toggleable\"><input class=\"sk-toggleable__control sk-hidden--visually\" id=\"sk-estimator-id-3\" type=\"checkbox\" ><label for=\"sk-estimator-id-3\" class=\"sk-toggleable__label fitted sk-toggleable__label-arrow fitted\">&nbsp;LogisticRegression<a class=\"sk-estimator-doc-link fitted\" rel=\"noreferrer\" target=\"_blank\" href=\"https://scikit-learn.org/1.4/modules/generated/sklearn.linear_model.LogisticRegression.html\">?<span>Documentation for LogisticRegression</span></a></label><div class=\"sk-toggleable__content fitted\"><pre>LogisticRegression(l1_ratio=0.7, max_iter=1000, n_jobs=-1, random_state=42)</pre></div> </div></div></div></div></div><div class=\"sk-parallel-item\"><div class=\"sk-item\"><div class=\"sk-label-container\"><div class=\"sk-label fitted sk-toggleable\"><label>model_2</label></div></div><div class=\"sk-serial\"><div class=\"sk-item\"><div class=\"sk-estimator fitted sk-toggleable\"><input class=\"sk-toggleable__control sk-hidden--visually\" id=\"sk-estimator-id-4\" type=\"checkbox\" ><label for=\"sk-estimator-id-4\" class=\"sk-toggleable__label fitted sk-toggleable__label-arrow fitted\">&nbsp;LogisticRegression<a class=\"sk-estimator-doc-link fitted\" rel=\"noreferrer\" target=\"_blank\" href=\"https://scikit-learn.org/1.4/modules/generated/sklearn.linear_model.LogisticRegression.html\">?<span>Documentation for LogisticRegression</span></a></label><div class=\"sk-toggleable__content fitted\"><pre>LogisticRegression(l1_ratio=0.5, max_iter=700, n_jobs=-1, random_state=42)</pre></div> </div></div></div></div></div><div class=\"sk-parallel-item\"><div class=\"sk-item\"><div class=\"sk-label-container\"><div class=\"sk-label fitted sk-toggleable\"><label>model_3</label></div></div><div class=\"sk-serial\"><div class=\"sk-item\"><div class=\"sk-estimator fitted sk-toggleable\"><input class=\"sk-toggleable__control sk-hidden--visually\" id=\"sk-estimator-id-5\" type=\"checkbox\" ><label for=\"sk-estimator-id-5\" class=\"sk-toggleable__label fitted sk-toggleable__label-arrow fitted\">&nbsp;LogisticRegression<a class=\"sk-estimator-doc-link fitted\" rel=\"noreferrer\" target=\"_blank\" href=\"https://scikit-learn.org/1.4/modules/generated/sklearn.linear_model.LogisticRegression.html\">?<span>Documentation for LogisticRegression</span></a></label><div class=\"sk-toggleable__content fitted\"><pre>LogisticRegression(l1_ratio=0.29999999999999993, max_iter=400, n_jobs=-1,\n",
       "                   random_state=42)</pre></div> </div></div></div></div></div></div></div></div></div>"
      ],
      "text/plain": [
       "VotingClassifier(estimators=[('model_0',\n",
       "                              LogisticRegression(l1_ratio=0.9, max_iter=1300,\n",
       "                                                 n_jobs=-1, random_state=42)),\n",
       "                             ('model_1',\n",
       "                              LogisticRegression(l1_ratio=0.7, max_iter=1000,\n",
       "                                                 n_jobs=-1, random_state=42)),\n",
       "                             ('model_2',\n",
       "                              LogisticRegression(l1_ratio=0.5, max_iter=700,\n",
       "                                                 n_jobs=-1, random_state=42)),\n",
       "                             ('model_3',\n",
       "                              LogisticRegression(l1_ratio=0.29999999999999993,\n",
       "                                                 max_iter=400, n_jobs=-1,\n",
       "                                                 random_state=42))],\n",
       "                 n_jobs=-1)"
      ]
     },
     "execution_count": 29,
     "metadata": {},
     "output_type": "execute_result"
    }
   ],
   "source": [
    "vc"
   ]
  }
 ],
 "metadata": {
  "kernelspec": {
   "display_name": "Python 3",
   "language": "python",
   "name": "python3"
  },
  "language_info": {
   "codemirror_mode": {
    "name": "ipython",
    "version": 3
   },
   "file_extension": ".py",
   "mimetype": "text/x-python",
   "name": "python",
   "nbconvert_exporter": "python",
   "pygments_lexer": "ipython3",
   "version": "3.11.8"
  }
 },
 "nbformat": 4,
 "nbformat_minor": 2
}
